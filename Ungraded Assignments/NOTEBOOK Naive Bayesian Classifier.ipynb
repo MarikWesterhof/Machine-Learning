{
 "cells": [
  {
   "cell_type": "code",
   "execution_count": null,
   "metadata": {
    "collapsed": false
   },
   "outputs": [],
   "source": [
    "import numpy as np\n",
    "%pylab"
   ]
  },
  {
   "cell_type": "markdown",
   "metadata": {},
   "source": [
    "# Number 1\n",
    "\n",
    "Female = 1, Male = 0.\n",
    "\n",
    "P(X= 1,|W1=w1,...Wn = wn) >= P(X=0|...)\n",
    "\n",
    "P(X=1 | L=l,W=w,S=s) >= P(X=0|.....)"
   ]
  },
  {
   "cell_type": "markdown",
   "metadata": {},
   "source": [
    "# Reading Data\n",
    "data = array containing data\n",
    "X = gender, 1 = Female 0 = Male\n",
    "W = weight in kgs\n",
    "L = length (Height) in cms\n",
    "S = shoe size (European)\n"
   ]
  },
  {
   "cell_type": "code",
   "execution_count": 7,
   "metadata": {
    "collapsed": true
   },
   "outputs": [],
   "source": [
    "data = np.genfromtxt(fname='biometrie2014.csv', skip_header=5, delimiter=\",\",converters={0: lambda x : float(x[0] == 70)})"
   ]
  },
  {
   "cell_type": "code",
   "execution_count": 9,
   "metadata": {
    "collapsed": false
   },
   "outputs": [
    {
     "name": "stdout",
     "output_type": "stream",
     "text": [
      "[[   0.    60.   183.    42. ]\n",
      " [   0.   130.   185.    45. ]\n",
      " [   0.    84.   180.    42. ]\n",
      " [   0.    65.   195.    45. ]\n",
      " [   0.    55.   170.    42. ]\n",
      " [   1.    63.   173.    41. ]\n",
      " [   0.    74.   185.    43. ]\n",
      " [   1.    50.   170.    38. ]\n",
      " [   1.    82.   180.    42. ]\n",
      " [   0.    77.   190.    44. ]\n",
      " [   0.    76.   179.    43. ]\n",
      " [   0.    66.   178.    42. ]\n",
      " [   0.    79.   186.    45. ]\n",
      " [   0.    76.   189.    44. ]\n",
      " [   0.    75.   175.    42. ]\n",
      " [   0.    90.   190.    46. ]\n",
      " [   0.    70.   180.    41. ]\n",
      " [   1.    46.   164.    36. ]\n",
      " [   0.    98.   189.    44. ]\n",
      " [   0.    79.   180.    43. ]\n",
      " [   0.    67.   189.    44. ]\n",
      " [   0.    81.   190.    45.3]\n",
      " [   0.    85.   190.    44.5]\n",
      " [   0.    75.   188.    44. ]\n",
      " [   0.    70.   178.    43. ]\n",
      " [   0.    60.   180.    43. ]\n",
      " [   0.    73.   192.    44. ]\n",
      " [   0.    76.   174.    42. ]\n",
      " [   0.    78.   187.    44. ]\n",
      " [   1.    75.   162.    38. ]\n",
      " [   1.    50.   165.    37. ]\n",
      " [   0.    76.   188.    44.5]\n",
      " [   0.    73.   180.    43. ]]\n"
     ]
    }
   ],
   "source": [
    "print(data) #let's see if the csv file got picked up..."
   ]
  },
  {
   "cell_type": "code",
   "execution_count": null,
   "metadata": {
    "collapsed": false,
    "scrolled": false
   },
   "outputs": [],
   "source": [
    "male = data[data[:,0] == 0]\n",
    "female = data[data[:,0] == 1]"
   ]
  },
  {
   "cell_type": "markdown",
   "metadata": {},
   "source": [
    "# Number 2\n",
    "# Parameter Estimates"
   ]
  },
  {
   "cell_type": "code",
   "execution_count": null,
   "metadata": {
    "collapsed": false,
    "scrolled": false
   },
   "outputs": [],
   "source": [
    "w0avg = np.mean(male[:,1])\n",
    "w1avg = np.mean(female[:,1])\n",
    "print(w0avg)\n",
    "print(w1avg)\n",
    "l0avg = np.mean(male[:,2])\n",
    "l1avg = np.mean(female[:,2])\n",
    "print(l0avg)\n",
    "print(l1avg)\n",
    "s0avg = np.mean(male[:,3])\n",
    "s1avg = np.mean(female[:,3])\n",
    "print(s0avg)\n",
    "print(s1avg)"
   ]
  },
  {
   "cell_type": "code",
   "execution_count": 24,
   "metadata": {
    "collapsed": false
   },
   "outputs": [
    {
     "name": "stdout",
     "output_type": "stream",
     "text": [
      "13.7847453509\n",
      "13.5892114071\n",
      "6.10358683815\n",
      "6.16441400297\n",
      "1.23586105114\n",
      "2.13437474581\n"
     ]
    }
   ],
   "source": [
    "w0std = np.std(male[:,1])\n",
    "w1std = np.std(female[:,1])\n",
    "print(w0std)\n",
    "print(w1std)\n",
    "l0std = np.std(male[:,2])\n",
    "l1std = np.std(female[:,2])\n",
    "print(l0std)\n",
    "print(l1std)\n",
    "s0std = np.std(male[:,3])\n",
    "s1std = np.std(female[:,3])\n",
    "print(s0std)\n",
    "print(s1std)"
   ]
  },
  {
   "cell_type": "markdown",
   "metadata": {},
   "source": [
    "# PDFs"
   ]
  },
  {
   "cell_type": "code",
   "execution_count": 25,
   "metadata": {
    "collapsed": true
   },
   "outputs": [],
   "source": [
    "import scipy.stats as sp\n",
    "\n",
    "f_w0 = sp.norm(w0avg,w0std)\n",
    "f_w1 = sp.norm(w1avg,w1std)\n",
    "f_l0 = sp.norm(l0avg,l0std)\n",
    "f_l1 = sp.norm(l1avg,l1std)\n",
    "f_s0 = sp.norm(s0avg,s0std)\n",
    "f_s1 = sp.norm(s1avg,s1std)\n"
   ]
  },
  {
   "cell_type": "markdown",
   "metadata": {},
   "source": [
    "# Plots"
   ]
  },
  {
   "cell_type": "markdown",
   "metadata": {},
   "source": [
    "# Number 3"
   ]
  },
  {
   "cell_type": "code",
   "execution_count": 26,
   "metadata": {
    "collapsed": true
   },
   "outputs": [],
   "source": [
    "def naivebayes(w,l,s):\n",
    "    w0 = f_w0.pdf(w)\n",
    "    w1 = f_w1.pdf(w)\n",
    "    \n",
    "    l0 = f_l0.pdf(l)\n",
    "    l1 = f_l1.pdf(l)\n",
    "    \n",
    "    s0 = f_s0.pdf(s)\n",
    "    s1 = f_s1.pdf(s)\n",
    "    \n",
    "    b = np.log(w0) + np.log(l0) + np.log(s0)\n",
    "    g = np.log(w1) + np.log(l1) + np.log(s1)\n",
    "    \n",
    "    if(g>=b):\n",
    "        return 'Female'\n",
    "    else:\n",
    "        return 'Male'\n",
    "    "
   ]
  },
  {
   "cell_type": "code",
   "execution_count": 30,
   "metadata": {
    "collapsed": false
   },
   "outputs": [
    {
     "data": {
      "text/plain": [
       "'Male'"
      ]
     },
     "execution_count": 30,
     "metadata": {},
     "output_type": "execute_result"
    }
   ],
   "source": [
    "naivebayes(67,175,42)"
   ]
  },
  {
   "cell_type": "code",
   "execution_count": null,
   "metadata": {
    "collapsed": true
   },
   "outputs": [],
   "source": []
  }
 ],
 "metadata": {
  "anaconda-cloud": {},
  "kernelspec": {
   "display_name": "Python [default]",
   "language": "python",
   "name": "python3"
  },
  "language_info": {
   "codemirror_mode": {
    "name": "ipython",
    "version": 3
   },
   "file_extension": ".py",
   "mimetype": "text/x-python",
   "name": "python",
   "nbconvert_exporter": "python",
   "pygments_lexer": "ipython3",
   "version": "3.5.2"
  }
 },
 "nbformat": 4,
 "nbformat_minor": 1
}
