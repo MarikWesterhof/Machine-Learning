{
 "cells": [
  {
   "cell_type": "code",
   "execution_count": 42,
   "metadata": {
    "collapsed": false
   },
   "outputs": [
    {
     "name": "stdout",
     "output_type": "stream",
     "text": [
      "Populating the interactive namespace from numpy and matplotlib\n"
     ]
    },
    {
     "name": "stderr",
     "output_type": "stream",
     "text": [
      "C:\\Users\\Marik\\Anaconda3\\lib\\site-packages\\IPython\\core\\magics\\pylab.py:161: UserWarning: pylab import has clobbered these variables: ['figure', 'show']\n",
      "`%matplotlib` prevents importing * from pylab and numpy\n",
      "  \"\\n`%matplotlib` prevents importing * from pylab and numpy\"\n"
     ]
    }
   ],
   "source": [
    "%pylab inline\n",
    "\n",
    "import pandas as pd\n",
    "from sklearn import svm\n",
    "from sklearn.preprocessing import StandardScaler         # to normalize data\n",
    "from sklearn.model_selection import train_test_split     # To split in train and test set\n",
    "from sklearn.model_selection import cross_val_score      # Cross Validation Score\n",
    "from sklearn.model_selection import GridSearchCV, RandomizedSearchCV\n",
    "from sklearn.ensemble import RandomForestClassifier\n",
    "from sklearn.linear_model import LogisticRegression      # Logistic Regression classifier\n",
    "from sklearn.neighbors import KNeighborsClassifier       # k-Nearest Neighbours classifier\n",
    "from sklearn.metrics import confusion_matrix, classification_report # Reports functions\n",
    "from sklearn.metrics import accuracy_score, recall_score, f1_score\n",
    "import matplotlib.pyplot as plt\n",
    "import matplotlib.patches as mpatches\n",
    "from scipy.stats import gaussian_kde as kde\n",
    "from matplotlib.colors import Normalize\n",
    "from matplotlib import cm\n",
    "import seaborn as sns\n",
    "from bokeh.plotting import figure, show, output_notebook\n",
    "\n",
    "sns.set(style=\"white\")"
   ]
  },
  {
   "cell_type": "markdown",
   "metadata": {},
   "source": [
    "## Setting up the dataset\n",
    "\n",
    "After loading the .csv file, we have to tinker with the dataset to turn in into the standard format used by the sklearn modules.\n",
    "\n",
    "* Replace all Neighborhoods' names, convert to range {0-80}\n",
    "* Replace all Genders' letters, {M,F} => {0,1}\n",
    "* Replace all No-show booleans, {No,Yes} => {0,1}\n",
    "\n"
   ]
  },
  {
   "cell_type": "code",
   "execution_count": 31,
   "metadata": {
    "collapsed": false,
    "scrolled": true
   },
   "outputs": [],
   "source": [
    "# Read CSV file\n",
    "noShow = pd.read_csv('NoShow.csv')\n",
    "\n",
    "# Change Neighbourhood input type to numbers\n",
    "# All 81 different ones...\n",
    "XN = noShow['Neighbourhood']\n",
    "XN2 = []\n",
    "for i in XN:\n",
    "    if i == 'JARDIM DA PENHA':\n",
    "        XN2.append(0)\n",
    "    elif i == 'MATA DA PRAIA':\n",
    "        XN2.append(1)\n",
    "    elif i == 'PONTAL DE CAMBURI':\n",
    "        XN2.append(2)\n",
    "    elif i == 'REPÚBLICA':\n",
    "        XN2.append(3)   \n",
    "    elif i == 'GOIABEIRAS':\n",
    "        XN2.append(4)    \n",
    "    elif i == 'ANDORINHAS':\n",
    "        XN2.append(5)    \n",
    "    elif i == 'CONQUISTA':\n",
    "        XN2.append(6)\n",
    "    elif i == 'NOVA PALESTINA':\n",
    "        XN2.append(7)    \n",
    "    elif i == 'DA PENHA':\n",
    "        XN2.append(8)    \n",
    "    elif i == 'TABUAZEIRO':\n",
    "        XN2.append(9)    \n",
    "    elif i == 'BENTO FERREIRA':\n",
    "        XN2.append(10)    \n",
    "    elif i == 'SÃO PEDRO':\n",
    "        XN2.append(11)    \n",
    "    elif i == 'SANTA MARTHA':\n",
    "        XN2.append(12)    \n",
    "    elif i == 'SÃO CRISTÓVÃO':\n",
    "        XN2.append(13)    \n",
    "    elif i == 'MARUÍPE':\n",
    "        XN2.append(14)    \n",
    "    elif i == 'GRANDE VITÓRIA':\n",
    "        XN2.append(15)   \n",
    "    elif i == 'SÃO BENEDITO':\n",
    "        XN2.append(16)    \n",
    "    elif i == 'ILHA DAS CAIEIRAS':\n",
    "        XN2.append(17)    \n",
    "    elif i == 'SANTO ANDRÉ':\n",
    "        XN2.append(18)    \n",
    "    elif i == 'SOLON BORGES':\n",
    "        XN2.append(19)   \n",
    "    elif i == 'BONFIM':\n",
    "        XN2.append(20)    \n",
    "    elif i == 'JARDIM CAMBURI':\n",
    "        XN2.append(21)    \n",
    "    elif i == 'MARIA ORTIZ':\n",
    "        XN2.append(22)    \n",
    "    elif i == 'JABOUR':\n",
    "        XN2.append(23)\n",
    "    elif i == 'ANTÔNIO HONÓRIO':\n",
    "        XN2.append(24)    \n",
    "    elif i == 'RESISTÊNCIA':\n",
    "        XN2.append(25)    \n",
    "    elif i == 'ILHA DE SANTA MARIA':\n",
    "        XN2.append(26)\n",
    "    elif i == 'JUCUTUQUARA':\n",
    "        XN2.append(27)    \n",
    "    elif i == 'MONTE BELO':\n",
    "        XN2.append(28)    \n",
    "    elif i == 'MÁRIO CYPRESTE':\n",
    "        XN2.append(29)    \n",
    "    elif i == 'SANTO ANTÔNIO':\n",
    "        XN2.append(30)    \n",
    "    elif i == 'BELA VISTA':\n",
    "        XN2.append(31)    \n",
    "    elif i == 'PRAIA DO SUÁ':\n",
    "        XN2.append(32)    \n",
    "    elif i == 'SANTA HELENA':\n",
    "        XN2.append(33)    \n",
    "    elif i == 'ITARARÉ':\n",
    "        XN2.append(34)    \n",
    "    elif i == 'INHANGUETÁ':\n",
    "        XN2.append(35)    \n",
    "    elif i == 'UNIVERSITÁRIO':\n",
    "        XN2.append(36)    \n",
    "    elif i == 'SÃO JOSÉ':\n",
    "        XN2.append(37)    \n",
    "    elif i == 'REDENÇÃO':\n",
    "        XN2.append(38)    \n",
    "    elif i == 'SANTA CLARA':\n",
    "        XN2.append(39)    \n",
    "    elif i == 'CENTRO':\n",
    "        XN2.append(40)    \n",
    "    elif i == 'PARQUE MOSCOSO':\n",
    "        XN2.append(41)    \n",
    "    elif i == 'DO MOSCOSO':\n",
    "        XN2.append(42)    \n",
    "    elif i == 'SANTOS DUMONT':\n",
    "        XN2.append(43)    \n",
    "    elif i == 'CARATOÍRA':\n",
    "        XN2.append(44)    \n",
    "    elif i == 'ARIOVALDO FAVALESSA':\n",
    "        XN2.append(45)    \n",
    "    elif i == 'ILHA DO FRADE':\n",
    "        XN2.append(46)    \n",
    "    elif i == 'GURIGICA':\n",
    "        XN2.append(47)   \n",
    "    elif i == 'JOANA D´ARC':\n",
    "        XN2.append(48)    \n",
    "    elif i == 'CONSOLAÇÃO':\n",
    "        XN2.append(49)    \n",
    "    elif i == 'PRAIA DO CANTO':\n",
    "        XN2.append(50)    \n",
    "    elif i == 'BOA VISTA':\n",
    "        XN2.append(51)    \n",
    "    elif i == 'MORADA DE CAMBURI':\n",
    "        XN2.append(52)    \n",
    "    elif i == 'SANTA LUÍZA':\n",
    "        XN2.append(53)    \n",
    "    elif i == 'SANTA LÚCIA':\n",
    "        XN2.append(54)    \n",
    "    elif i == 'BARRO VERMELHO':\n",
    "        XN2.append(55)    \n",
    "    elif i == 'ESTRELINHA':\n",
    "        XN2.append(56)    \n",
    "    elif i == 'FORTE SÃO JOÃO':\n",
    "        XN2.append(57)    \n",
    "    elif i == 'FONTE GRANDE':\n",
    "        XN2.append(58)    \n",
    "    elif i == 'ENSEADA DO SUÁ':\n",
    "        XN2.append(59)    \n",
    "    elif i == 'SANTOS REIS':\n",
    "        XN2.append(60)    \n",
    "    elif i == 'PIEDADE':\n",
    "        XN2.append(61)    \n",
    "    elif i == 'JESUS DE NAZARETH':\n",
    "        XN2.append(62)    \n",
    "    elif i == 'SANTA TEREZA':\n",
    "        XN2.append(63)\n",
    "    elif i == 'CRUZAMENTO':\n",
    "        XN2.append(64)\n",
    "    elif i == 'ILHA DO PRÍNCIPE':\n",
    "        XN2.append(65)   \n",
    "    elif i == 'ROMÃO':\n",
    "        XN2.append(66)    \n",
    "    elif i == 'COMDUSA':\n",
    "        XN2.append(67)   \n",
    "    elif i == 'SANTA CECÍLIA':\n",
    "        XN2.append(68)    \n",
    "    elif i == 'VILA RUBIM':\n",
    "        XN2.append(69)    \n",
    "    elif i == 'DE LOURDES':\n",
    "        XN2.append(70)  \n",
    "    elif i == 'DO QUADRO':\n",
    "        XN2.append(71)    \n",
    "    elif i == 'DO CABRAL':\n",
    "        XN2.append(72)    \n",
    "    elif i == 'HORTO':\n",
    "        XN2.append(73)    \n",
    "    elif i == 'SEGURANÇA DO LAR':\n",
    "        XN2.append(74)    \n",
    "    elif i == 'ILHA DO BOI':\n",
    "        XN2.append(75)    \n",
    "    elif i == 'FRADINHOS':\n",
    "        XN2.append(76)   \n",
    "    elif i == 'NAZARETH':\n",
    "        XN2.append(77)   \n",
    "    elif i == 'AEROPORTO':\n",
    "        XN2.append(78)   \n",
    "    elif i == 'ILHAS OCEÂNICAS DE TRINDADE':\n",
    "        XN2.append(79)    \n",
    "    elif i == 'PARQUE INDUSTRIAL':\n",
    "        XN2.append(80)\n",
    "        \n",
    "XN3 = asarray(XN2)\n",
    "noShow['Neighbourhood'] = XN3\n",
    "\n",
    "# Change Gender input type to binaries\n",
    "XG = noShow['Gender']\n",
    "XG2 = []\n",
    "for i in XG:\n",
    "    if i == 'M':\n",
    "        XG2.append(0)\n",
    "    elif i == 'F':\n",
    "        XG2.append(1)\n",
    "\n",
    "XG3 = asarray(XG2)\n",
    "noShow['Gender'] = XG3\n",
    "\n",
    "# Change No-show output type to binaries\n",
    "y = noShow['No-show']\n",
    "y2 = []\n",
    "for i in y:\n",
    "    if i == 'No':\n",
    "        y2.append(0)\n",
    "    elif i == 'Yes':\n",
    "        y2.append(1)\n",
    "        \n",
    "y3 = asarray(y2)\n",
    "noShow['No-show'] = y3\n",
    "y = asarray(noShow['No-show'])\n",
    "\n",
    "# Delete unused data columns from group, and turn into a normal array.\n",
    "Xii = asarray(noShow)\n",
    "Xi = np.delete(Xii,[0,1,3,4,13],axis=1)\n",
    "X = Xi.astype(None)\n",
    "\n",
    "# Split data into 80/20 train/test. Scale, fit and transform data.\n",
    "X_train, X_test, y_train, y_test = train_test_split(X, y, test_size=0.2)\n",
    "scaler = StandardScaler()\n",
    "scaler.fit(X_train)\n",
    "scaler.fit(X_test)\n",
    "X_train_scaled = scaler.transform(X_train)\n",
    "X_test_scaled = scaler.transform(X_test)\n",
    "\n",
    "# The three classifiers used in this project.\n",
    "knn = KNeighborsClassifier()\n",
    "lr = LogisticRegression()\n",
    "rf = RandomForestClassifier(n_jobs=2, random_state=0)"
   ]
  },
  {
   "cell_type": "markdown",
   "metadata": {},
   "source": [
    "## Performance with Default parameter settings\n",
    "\n",
    "This is the main() function to check each classifier's default value scores."
   ]
  },
  {
   "cell_type": "code",
   "execution_count": 19,
   "metadata": {
    "collapsed": false
   },
   "outputs": [],
   "source": [
    "def main(clr):\n",
    "    if clr == knn:\n",
    "        name = 'K-Nearest Neighbour'\n",
    "    elif clr == lr:\n",
    "        name = 'Logistic Regression'\n",
    "    elif clr == rf:\n",
    "        name = 'Random Forest'\n",
    "    model = clr.fit(X_train_scaled, y_train)\n",
    "    score = cross_val_score(model, X, y, cv=10)\n",
    "    y_predict = clr.predict(X)\n",
    "    report = classification_report(y, y_predict)\n",
    "    print('\\nResults for the',name,'classifier.'\n",
    "          '\\n\\nCross Validation:',\n",
    "          '\\n Average Score:',average(score),\n",
    "          '\\n stdev:        ',score.std(),\n",
    "          '\\n\\nClassification Report:'\n",
    "          '\\n',report)"
   ]
  },
  {
   "cell_type": "markdown",
   "metadata": {},
   "source": [
    "Now, we use the main function for the three classifier methods."
   ]
  },
  {
   "cell_type": "code",
   "execution_count": 44,
   "metadata": {
    "collapsed": false,
    "scrolled": false
   },
   "outputs": [
    {
     "name": "stdout",
     "output_type": "stream",
     "text": [
      "\n",
      "Results for the Logistic Regression classifier.\n",
      "\n",
      "Cross Validation: \n",
      " Average Score: 0.798067441249 \n",
      " stdev:         1.76535570047e-05 \n",
      "\n",
      "Classification Report:\n",
      "              precision    recall  f1-score   support\n",
      "\n",
      "          0       0.80      0.97      0.87     88208\n",
      "          1       0.20      0.03      0.06     22319\n",
      "\n",
      "avg / total       0.68      0.78      0.71    110527\n",
      "\n",
      "\n",
      "Results for the Random Forest classifier.\n",
      "\n",
      "Cross Validation: \n",
      " Average Score: 0.749844032418 \n",
      " stdev:         0.00572587214531 \n",
      "\n",
      "Classification Report:\n",
      "              precision    recall  f1-score   support\n",
      "\n",
      "          0       0.80      0.93      0.86     88208\n",
      "          1       0.17      0.06      0.09     22319\n",
      "\n",
      "avg / total       0.67      0.75      0.70    110527\n",
      "\n",
      "\n",
      "Results for the K-Nearest Neighbour classifier.\n",
      "\n",
      "Cross Validation: \n",
      " Average Score: 0.759470616435 \n",
      " stdev:         0.00660554344508 \n",
      "\n",
      "Classification Report:\n",
      "              precision    recall  f1-score   support\n",
      "\n",
      "          0       0.79      0.91      0.85     88208\n",
      "          1       0.16      0.07      0.10     22319\n",
      "\n",
      "avg / total       0.67      0.74      0.69    110527\n",
      "\n"
     ]
    }
   ],
   "source": [
    "main(lr)\n",
    "main(rf)\n",
    "main(knn)"
   ]
  },
  {
   "cell_type": "markdown",
   "metadata": {},
   "source": [
    "It is visible that the highest average lies with Logistic Regression, although the difference is not very big."
   ]
  },
  {
   "cell_type": "code",
   "execution_count": 50,
   "metadata": {
    "collapsed": false
   },
   "outputs": [
    {
     "data": {
      "image/png": "[encoded data removed]",
      "text/plain": [
       "<matplotlib.figure.Figure at 0x24510418630>"
      ]
     },
     "metadata": {},
     "output_type": "display_data"
    }
   ],
   "source": [
    "knn.fit(X_train, y_train)\n",
    "y_pred_knn = knn.predict(X)\n",
    "\n",
    "knn_acc = 0.67\n",
    "knn_rec = 0.74 \n",
    "knn_f1 = 0.69\n",
    "\n",
    "lr.fit(X_train, y_train)\n",
    "y_pred_lr = lr.predict(X)\n",
    "lr_acc = 0.68\n",
    "lr_rec = 0.78\n",
    "lr_f1 = 0.71\n",
    "\n",
    "rf.fit(X_train, y_train)\n",
    "y_pred_rf = rf.predict(X)\n",
    "rf_acc = 0.67\n",
    "rf_rec = 0.75\n",
    "rf_f1 = 0.70\n",
    "\n",
    "n_groups = 3\n",
    "\n",
    "fig, ax = plt.subplots()\n",
    "index = np.arange(n_groups)\n",
    "bar_width = 0.25\n",
    "opacity = 0.8\n",
    "\n",
    "rects1 = plt.bar(index, [knn_acc, lr_acc, rf_acc], bar_width, alpha=opacity,color='b',label='Accuracy')\n",
    "\n",
    "rects2 = plt.bar(index + bar_width, [knn_rec, lr_rec, rf_rec], bar_width, alpha=opacity,color='g',label='Recall')\n",
    "\n",
    "rects2 = plt.bar(index + 2*bar_width, [knn_f1, lr_f1, rf_f1], bar_width, alpha=opacity,color='r',label='F1 Score')\n",
    "\n",
    "plt.xlabel('Classifiers')\n",
    "plt.ylabel('Scores')\n",
    "plt.title('Classification Scores')\n",
    "plt.xticks(index + bar_width, ('KNN', 'LR', 'RF'))\n",
    "plt.legend(loc='center left', bbox_to_anchor=(1,0.5))\n",
    "plt.ylim([0.6,0.8])\n",
    "\n",
    "plt.show()"
   ]
  },
  {
   "cell_type": "markdown",
   "metadata": {},
   "source": [
    "## Optimizing Parameters\n",
    "\n",
    "Here, we tune the parameters of each classifier in an attempt to find the optimum. Normally, GridSearchCV() is used. However, with a data set this big, this would take ages to compute. Instead, we chose for RandomizedSearchCV(), which drastically cuts down computating time, and nearly always yields similar (or even better) results."
   ]
  },
  {
   "cell_type": "code",
   "execution_count": 16,
   "metadata": {
    "collapsed": false
   },
   "outputs": [
    {
     "name": "stdout",
     "output_type": "stream",
     "text": [
      "Optimized parameters\n",
      " K-Nearest Neighbours: {'n_neighbors': 48} \n",
      " Logistic Regression:  {'C': 0.0001} \n",
      " Random Forest:        {'n_estimators': 1200}\n"
     ]
    }
   ],
   "source": [
    "# K-Nearest Neighbours optimalization\n",
    "k = np.arange(50)+1\n",
    "params_knn = {'n_neighbors': k}\n",
    "\n",
    "clf_knn = RandomizedSearchCV(knn, params_knn)\n",
    "clf_knn.fit(X_train, y_train)\n",
    "best_knn = clf_knn.best_params_\n",
    "\n",
    "# Logistic Regression optimalization\n",
    "c = [0.00001, 0.0001, 0.001, 0.01, 0.1, 1, 10, 100, 1000, 10000, 100000]\n",
    "params_lr = {'C': c}\n",
    "\n",
    "clf_lr = RandomizedSearchCV(lr, params_lr)\n",
    "clf_lr.fit(X_train, y_train)\n",
    "best_lr = clf_lr.best_params_\n",
    "\n",
    "# Random Forest optimalization\n",
    "e = [100, 200, 300, 400, 500, 600, 700, 800, 900, 1000, 1100, 1200]\n",
    "params_rf = {'n_estimators': e}\n",
    "\n",
    "clf_rf = RandomizedSearchCV(rf, params_rf)\n",
    "clf_rf.fit(X_train, y_train)\n",
    "best_rf = clf_rf.best_params_\n",
    "\n",
    "print('Optimized parameters'\n",
    "      '\\n K-Nearest Neighbours:',best_knn,\n",
    "      '\\n Logistic Regression: ',best_lr,\n",
    "      '\\n Random Forest:       ',best_rf)"
   ]
  },
  {
   "cell_type": "markdown",
   "metadata": {},
   "source": [
    "Backup (this took 10+ minutes to load)\n",
    "\n",
    "    Optimized parameters\n",
    "     K-Nearest Neighbours: {'n_neighbors': 48} \n",
    "     Logistic Regression:  {'C': 0.0001} \n",
    "     Random Forest:        {'n_estimators': 1200}"
   ]
  },
  {
   "cell_type": "markdown",
   "metadata": {},
   "source": [
    "To verify that the RandomizedSearchCV did find a good score, we can draw a graph with the surrounding points. This is only done for k-nn, for having a visual image of the optimalization."
   ]
  },
  {
   "cell_type": "code",
   "execution_count": 56,
   "metadata": {
    "collapsed": false,
    "scrolled": false
   },
   "outputs": [
    {
     "data": {
      "text/plain": [
       "[<matplotlib.lines.Line2D at 0x24510375da0>]"
      ]
     },
     "execution_count": 56,
     "metadata": {},
     "output_type": "execute_result"
    },
    {
     "data": {
      "image/png": "[encoded data removed]",
      "text/plain": [
       "<matplotlib.figure.Figure at 0x2450b086908>"
      ]
     },
     "metadata": {},
     "output_type": "display_data"
    }
   ],
   "source": [
    "k_list = []\n",
    "\n",
    "def main2(clr, los):\n",
    "    model = clr.fit(X_train_scaled, y_train)\n",
    "    score = cross_val_score(model, X, y, cv=10)\n",
    "    los.append(average(score))\n",
    "\n",
    "K = range(40,50)\n",
    "for i in K:\n",
    "    knn = KNeighborsClassifier(n_neighbors = i)\n",
    "    main2(knn, k_list)\n",
    "               \n",
    "plt.title(\"Succes scores for k\")\n",
    "plt.ylabel(\"Succes rate\")\n",
    "plt.xlabel(\"k amount\")\n",
    "plt.plot(K,k_list)"
   ]
  },
  {
   "cell_type": "code",
   "execution_count": 64,
   "metadata": {
    "collapsed": false
   },
   "outputs": [],
   "source": [
    "def main3(clr):\n",
    "    if clr == knn:\n",
    "        name = 'K-Nearest Neighbour'\n",
    "    elif clr == lr:\n",
    "        name = 'Logistic Regression'\n",
    "    elif clr == rf:\n",
    "        name = 'Random Forest'\n",
    "    model = clr.fit(X_train_scaled, y_train)\n",
    "    y_predict = clr.predict(X)\n",
    "    report = confusion_matrix(y, y_predict)\n",
    "    print('\\nConfusion Matrix for the',name,'classifier.'\n",
    "          '\\n',report)"
   ]
  },
  {
   "cell_type": "code",
   "execution_count": 65,
   "metadata": {
    "collapsed": false
   },
   "outputs": [
    {
     "name": "stdout",
     "output_type": "stream",
     "text": [
      "\n",
      "Confusion Matrix for the Logistic Regression classifier.\n",
      " [[83552  4656]\n",
      " [21085  1234]]\n"
     ]
    }
   ],
   "source": [
    "main3(lr)"
   ]
  },
  {
   "cell_type": "code",
   "execution_count": null,
   "metadata": {
    "collapsed": true
   },
   "outputs": [],
   "source": []
  }
 ],
 "metadata": {
  "anaconda-cloud": {},
  "kernelspec": {
   "display_name": "Python [default]",
   "language": "python",
   "name": "python3"
  },
  "language_info": {
   "codemirror_mode": {
    "name": "ipython",
    "version": 3
   },
   "file_extension": ".py",
   "mimetype": "text/x-python",
   "name": "python",
   "nbconvert_exporter": "python",
   "pygments_lexer": "ipython3",
   "version": "3.5.2"
  }
 },
 "nbformat": 4,
 "nbformat_minor": 1
}
