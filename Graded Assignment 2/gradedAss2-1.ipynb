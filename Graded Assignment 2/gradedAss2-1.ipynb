{
 "cells": [
  {
   "cell_type": "markdown",
   "metadata": {},
   "source": [
    "# Graded Lab Assignment 2: Evaluate classifiers (10 points)\n",
    " \n",
    "In this assignment you will optimize and compare the perfomance of a parametric (logistic regression) and non-parametric (k-nearest neighbours) classifier on the MNIST dataset.\n",
    "\n",
    "Publish your notebook (ipynb file) to your Machine Learning repository on Github ON TIME. We will check the last commit on the day of the deadline.  \n",
    "\n",
    "### Deadline Friday, November 17, 23:59.\n",
    "\n",
    "This notebook consists of three parts: design, implementation, results & analysis. \n",
    "We provide you with the design of the experiment and you have to implement it and analyse the results.\n",
    "\n",
    "### Criteria used for grading\n",
    "* Explain and analyse all results.\n",
    "* Make your notebook easy to read. When you are finished take your time to review it!\n",
    "* You do not want to repeat the same chunks of code multiply times. If your need to do so, write a function. \n",
    "* The implementation part of this assignment needs careful design before you start coding. You could start by writing pseudocode.\n",
    "* In this exercise the insights are important. Do not hide them somewhere in the comments in the implementation, but put them in the Analysis part\n",
    "* Take care that all the figures and tables are well labeled and numbered so that you can easily refer to them.\n",
    "* A plot should have a title and axes labels.\n",
    "* You may find that not everything is 100% specified in this assignment. That is correct! Like in real life you probably have to make some choices. Motivate your choices.\n"
   ]
  },
  {
   "cell_type": "markdown",
   "metadata": {},
   "source": [
    "### Grading points distribution\n",
    "\n",
    "* Implementation 5 points\n",
    "* Results and analysis 5 points"
   ]
  },
  {
   "cell_type": "markdown",
   "metadata": {},
   "source": [
    "## Design of the experiment"
   ]
  },
  {
   "cell_type": "markdown",
   "metadata": {},
   "source": [
    "You do not have to keep the order of this design and are allowed to alter it if you are confident.\n",
    "* Import all necessary modules. Try to use as much of the available functions as possible. \n",
    "* Use the provided train and test set of MNIST dataset.\n",
    "* Pre-process data eg. normalize/standardize, reformat, etc.           \n",
    "  Do whatever you think is necessary and motivate your choices.\n",
    "* (1) Train logistic regression and k-nn using default settings.\n",
    "* Use 10-fold cross validation for each classifier to optimize the performance for one parameter: \n",
    "    * consult the documentation on how cross validation works in sklearn (important functions:             cross_val_score(), GridSearchCV()).\n",
    "    * Optimize k for k-nn,\n",
    "    * for logistic regression focus on the regularization parameter,\n",
    "* (2) Train logistic regression and k-nn using optimized parameters.\n",
    "* Show performance on the cross-validation set for (1) and (2) for both classifiers: \n",
    "    * report the average cross validation error rates (alternatively, the average accuracies - it's up to you) and standard deviation,\n",
    "    * plot the average cross valildation errors (or accuracies) for different values of the parameter that you tuned. \n",
    "* Compare performance on the test set for two classifiers:\n",
    "    * produce the classification report for both classifiers, consisting of precision, recall, f1-score. Explain and analyse the results.\n",
    "    * print confusion matrix for both classifiers and compare whether they missclassify the same  classes. Explain and analyse the results.\n",
    "* Discuss your results.\n",
    "* BONUS: only continue with this part if you are confident that your implemention is complete \n",
    "    * tune more parameters of logistic regression\n",
    "    * add additional classifiers (NN, Naive Bayes, decision tree), \n",
    "    * analyse additional dataset (ex. Iris dataset)"
   ]
  },
  {
   "cell_type": "markdown",
   "metadata": {},
   "source": [
    "# (0) Importing and scaling data\n",
    "\n",
    "Firstly, all packages are imported and and data is loaded. X data is scaled for easier user later on."
   ]
  },
  {
   "cell_type": "code",
   "execution_count": 1,
   "metadata": {
    "collapsed": false
   },
   "outputs": [
    {
     "name": "stdout",
     "output_type": "stream",
     "text": [
      "Populating the interactive namespace from numpy and matplotlib\n"
     ]
    }
   ],
   "source": [
    "%pylab inline\n",
    "\n",
    "from sklearn.datasets import load_digits\n",
    "from sklearn.datasets import load_iris                   # Data used in BONUS exercise\n",
    "from sklearn.preprocessing import StandardScaler         # to normalize data\n",
    "from sklearn.model_selection import train_test_split     # To split in train and test set\n",
    "from sklearn.model_selection import cross_val_score      # Cross Validation Score\n",
    "from sklearn.linear_model import LogisticRegression      # Logistic Regression classifier\n",
    "from sklearn.neighbors import KNeighborsClassifier       # k-Nearest Neighbours classifier\n",
    "from sklearn.metrics import confusion_matrix, classification_report # Reports functions\n",
    "\n",
    "# load Digits dataset and split in train and test set.\n",
    "digits = load_digits()\n",
    "X_mnist = reshape(digits.images,(1797,64))               # Input data (used in CVS)\n",
    "X_train_mnist = reshape(digits.images[:1500],(1500,64))  # Input train set\n",
    "X_test_mnist = reshape(digits.images[1500:],(297,64))    # Input test set\n",
    "y_mnist = digits.target                                  # Output data (used in CVS)\n",
    "y_train_mnist = digits.target[:1500]                     # Output train set\n",
    "y_test_mnist = digits.target[1500:]                      # Output test set\n",
    "\n",
    "# Scale Digits Input Data\n",
    "scaler = StandardScaler()  \n",
    "scaler.fit(X_train_mnist)\n",
    "scaler.fit(X_test_mnist)\n",
    "X_train_mnist_scaled = scaler.transform(X_train_mnist)\n",
    "X_test_mnist_scaled = scaler.transform(X_test_mnist)\n",
    "\n",
    "# BONUS: Load Iris dataset and split in train and test set\n",
    "iris = load_iris()\n",
    "X_iris = iris.data                                       # Input data (used in CVS)\n",
    "X_train_iris = iris.data[:120]                           # Input train set\n",
    "X_test_iris = iris.data[120:]                            # Input test set\n",
    "y_iris = iris.target                                     # Output data (used in CVS)\n",
    "y_train_iris = iris.target[:120]                         # Output train set\n",
    "y_test_iris = iris.target[120:]                          # Output test set\n",
    "\n",
    "# BONUS: Scale Iris Input Data\n",
    "scaler.fit(X_train_iris)\n",
    "scaler.fit(X_test_iris)\n",
    "X_train_iris_scaled = scaler.transform(X_train_iris)\n",
    "X_test_iris_scaled = scaler.transform(X_test_iris)\n"
   ]
  },
  {
   "cell_type": "markdown",
   "metadata": {},
   "source": [
    "# (1) Training LogR and k-NN using default settings\n",
    "\n",
    "### main()\n",
    "\n",
    "This is the main() function, which will be used in step (2) as well. This main function is used for both default inputs in the first part of the assignment as well as finding the optimal nearest-neighbour number and regularization parameter, for k-Nearest Neighbour and Logistic Regression respectively.\n",
    "\n",
    "Like all other functions, main() already includes compatibility with iris data, which is used in the bonus section.\n",
    "\n",
    "### print_defauts()\n",
    "The second function print_defaults() will return the scores and standard deviation using the default settings of the imported classifier type function. This is what is asked in the first part of the Assignment and should yield all necessary results."
   ]
  },
  {
   "cell_type": "code",
   "execution_count": 2,
   "metadata": {
    "collapsed": false,
    "scrolled": true
   },
   "outputs": [],
   "source": [
    "# Main function that calculates the 10-fold Cross Validation.\n",
    "# lr/knn, list, boolean, mnist/iris -> [avg. score, std.dev] OR append(score) OR Error\n",
    "def main(classifier, optimizer, default, data):\n",
    "    if data == \"mnist\":\n",
    "        # Use Digits dataset\n",
    "        p,q,r,s = X_train_mnist_scaled, y_train_mnist, X_mnist, y_mnist\n",
    "    elif data == \"iris\":\n",
    "        # Use Iris dataset\n",
    "        p,q,r,s = X_train_iris_scaled, y_train_iris, X_iris, y_iris\n",
    "    else:\n",
    "        # Throw error saying no data set was chosen\n",
    "        raise ValueError('No data set defined')\n",
    "        \n",
    "    model = classifier.fit(p,q)\n",
    "    score = cross_val_score(model, r, s, cv=10)\n",
    "    # if True (default input): Return score and average of scores\n",
    "    if default == True:\n",
    "        std_dev = score.std()\n",
    "        return [average(score), std_dev]\n",
    "    # if False (custom input): Append value average to list\n",
    "    else:\n",
    "        optimizer.append(average(score))\n",
    "\n",
    "# Function that prints out the default results\n",
    "# lr/knn, name, mnist/iris -> print(name, avg.score, std.dev)\n",
    "def print_defaults(classifier, name, data):\n",
    "    # Save answers of main function in a list so it only has to run once per Classifier type - saves time!\n",
    "    answers = main(classifier, [], True, data)\n",
    "    print(name, \"Value analysis on the\", data,\"dataset:\",\n",
    "          \"\\n avg.score:\", answers[0],\n",
    "          \"\\n std.dev.: \", answers[1])"
   ]
  },
  {
   "cell_type": "markdown",
   "metadata": {},
   "source": [
    "### Results of default values\n",
    "\n",
    "Here, nothing but the default settings for both LogR and k-NN functions are used. The program outputs the averages of the 10-fold using the default input."
   ]
  },
  {
   "cell_type": "code",
   "execution_count": 3,
   "metadata": {
    "collapsed": false
   },
   "outputs": [
    {
     "name": "stdout",
     "output_type": "stream",
     "text": [
      "k-Nearest Neighbour Value analysis on the mnist dataset: \n",
      " avg.score: 0.973948287255 \n",
      " std.dev.:  0.0165496015374\n",
      "Logistic Regression Value analysis on the mnist dataset: \n",
      " avg.score: 0.931029834684 \n",
      " std.dev.:  0.0347846545518\n"
     ]
    }
   ],
   "source": [
    "# Apply logistic regression to both types\n",
    "print_defaults(KNeighborsClassifier(), \"k-Nearest Neighbour\", \"mnist\")\n",
    "print_defaults(LogisticRegression(), \"Logistic Regression\", \"mnist\")"
   ]
  },
  {
   "cell_type": "markdown",
   "metadata": {},
   "source": [
    "As it turns out, the Cross Validation Score and Standard deviation are much better when using the k-Nearest Neighbour method, assuming default input values.\n",
    "\n",
    "However, the Logistic Regression method still produces reasonable results."
   ]
  },
  {
   "cell_type": "markdown",
   "metadata": {},
   "source": [
    "## (2a) Optimizing k for k-NN\n",
    "\n",
    "In this part, we try to find the optimal k for k-NN. A plot shows the success rates with varying k's, and the program also returns the optimal rate and its associated k value.\n",
    "\n",
    "The main() function is used in a for-loop that collects all success rates and appends them to k_list. If we read k_list and associate the correct k-values with them, we can plot out all k and their rates using plt.plot(). Additionally, we can print the highest score found in our results (and thus the highest point in our graph), with the corresponding k included. In the end, this is exactly the answer to finding the optimal k."
   ]
  },
  {
   "cell_type": "code",
   "execution_count": 4,
   "metadata": {
    "collapsed": false,
    "scrolled": false
   },
   "outputs": [
    {
     "name": "stdout",
     "output_type": "stream",
     "text": [
      "The highest rate 0.97778921138 is achieved with k = 3\n"
     ]
    },
    {
     "data": {
      "image/png": "[encoded data removed]",
      "text/plain": [
       "<matplotlib.figure.Figure at 0x2686502af60>"
      ]
     },
     "metadata": {},
     "output_type": "display_data"
    }
   ],
   "source": [
    "# Make en empty list. The loop will fill this with the average value scores for each k.\n",
    "k_list = []\n",
    "\n",
    "# A Loop that checks k between 2 and 30 and prints it in k_list in increasing order.\n",
    "K = range(2,30)\n",
    "for i in K:\n",
    "    knn = KNeighborsClassifier(n_neighbors = i)\n",
    "    main(knn, k_list, False, \"mnist\")\n",
    "    \n",
    "# Save the maximum (that will be used multiple times) so the algorithm is faster\n",
    "max_k_list = max(k_list)\n",
    "\n",
    "# Makes a plot for good visualization. The highest peak is the optimal average rate at that k.\n",
    "plt.title(\"Succes scores for k\")\n",
    "plt.ylabel(\"Succes rate\")\n",
    "plt.xlabel(\"k amount\")\n",
    "plt.plot(K,k_list)\n",
    "\n",
    "# Prints the optimal average rate and its associated k value.\n",
    "print(\"The highest rate\", max_k_list, \"is achieved with k =\", K[k_list.index(max_k_list)])"
   ]
  },
  {
   "cell_type": "markdown",
   "metadata": {},
   "source": [
    "As most data sets perform the best CV scores with a k between 3 and 10, this set is no exception.\n",
    "\n",
    "*At k = 3, the highest achievable average score is 0.9778*.\n",
    "\n",
    "Why choose for the region 2 to 30? At k = 1, you are not actually dividing up the data at all, so it is irrelevant. 30 was arbitrarly picked, but it is fairly obvious that increasing this number will not yield a better score: the graph shows a steady decline from k = 3 onwards. It is safe to say that we immediately found the optimal k, and it is included in this graph."
   ]
  },
  {
   "cell_type": "markdown",
   "metadata": {},
   "source": [
    "## (2b) Optimizing regularization (lambda) for LogR\n",
    "\n",
    "In a very similar fashion, we can calculate the optimal regularization parameter. Used once more is a loop that calls upon the main() function and appends the results in c_list, which is later used in conjunction with the range to plot a graph and print the supposed maximum value at the optimal lambda.\n",
    "\n",
    "The LogisticRegression() function takes the argument C, which is the inverse of lambda (C = 1/lambda). The code inverts the graph's x-axis and printed result to account for this."
   ]
  },
  {
   "cell_type": "code",
   "execution_count": 5,
   "metadata": {
    "collapsed": false
   },
   "outputs": [
    {
     "name": "stdout",
     "output_type": "stream",
     "text": [
      "The highest rate 0.941602537134 is achieved with lambda = 20.5673758865\n"
     ]
    },
    {
     "data": {
      "image/png": "[encoded data removed]",
      "text/plain": [
       "<matplotlib.figure.Figure at 0x26868cd4a20>"
      ]
     },
     "metadata": {},
     "output_type": "display_data"
    }
   ],
   "source": [
    "# Make en empty list. The loop will fill this with the average value scores for each lambda.\n",
    "c_list = []\n",
    "\n",
    "# A Loop that checks C between 0.048 and 0.051 and prints it in c_list in increasing order.\n",
    "C = np.linspace(0.048, 0.051, num=30)\n",
    "for i in C:\n",
    "    lr = LogisticRegression(C=i)\n",
    "    main(lr,c_list,False,\"mnist\")\n",
    "\n",
    "# Save the maximum (that will be used multiple times) so the algorithm is faster\n",
    "max_c_list = max(c_list)\n",
    "    \n",
    "# Makes a plot for good visualization. The highest peak is the optimal average rate at that lambda.\n",
    "plt.title(\"Succes scores for Lambda\")\n",
    "plt.ylabel(\"Succes rate\")\n",
    "plt.xlabel(\"lambda amount\")\n",
    "plt.plot(1/C,c_list)\n",
    "\n",
    "# Prints the optimal average rate and its associated lambda value. \n",
    "print(\"The highest rate\",max_c_list,\"is achieved with lambda =\",1/C[c_list.index(max_c_list)]) "
   ]
  },
  {
   "cell_type": "markdown",
   "metadata": {
    "collapsed": false
   },
   "source": [
    "Picking the correct lambda region was a lot harder than picking the k region: we started between 2 and 30 (similar to k), and it quickly showed that the optimal was around 20. Zooming in gives the graph depicted above, where there is not one peak, but there are two ranges that appear to have the same chance. It is likely there is a miniscule difference between the lambda rates, but this amount is so insignificant that it is not reported in this assignment. The optimal rate is present roughly between the region [20.00, 20.55].\n",
    "\n",
    "Even though the script prints the first highest point on the right, the graph shows a larger peak range on the left. Thus, instead, we will take the middle point of this peak as our optimal lambda.\n",
    "\n",
    "*Therefore, we assume that the actual optimized score is 0.9416 at lambda = 20.2.*"
   ]
  },
  {
   "cell_type": "markdown",
   "metadata": {
    "collapsed": true
   },
   "source": [
    "# (2c) Comparing performance\n",
    "\n",
    "### print_report()\n",
    "\n",
    "Now, we are going to compare performance through a Classification Report (CR) and a Confusion Matrix (CM). Since both of them use a prediction value, we can put them in the same function print_report(). This function makes a predicted y based on the scaled X test data, and then prints out, depending on the input given:\n",
    "\n",
    "- A Classification report that compares the true y with the predicted y. It gives all target their respective recognized number.\n",
    "\n",
    "- A Confusion Matrix that also compares the true y with the predicted y.\n",
    "\n",
    "- If no type of input is given, the function throws an error.\n",
    "\n",
    "In order to use the functions classification_report() and confusion_matrix(), the data has to be fitted."
   ]
  },
  {
   "cell_type": "code",
   "execution_count": 6,
   "metadata": {
    "collapsed": false
   },
   "outputs": [],
   "source": [
    "# This list of string is used for naming in the report.\n",
    "numbers = [\"0\",\"1\",\"2\",\"3\",\"4\",\"5\",\"6\",\"7\",\"8\",\"9\"]\n",
    "flowers = [\"Setosa\", \"Versicolour\", \"Virginica\"]\n",
    "\n",
    "# Function that prints a Report or Matrix\n",
    "# lr/knn, name, report/matrix, mnist/iris -> print(name, report) OR print (name, matrix) OR Error\n",
    "def print_report(classifier, name, report, data):\n",
    "    if data == \"mnist\":\n",
    "        # Use Digits dataset\n",
    "        p, q, r = X_test_mnist_scaled, y_test_mnist, numbers\n",
    "    elif data == \"iris\":\n",
    "        # Use Iris dataset\n",
    "        p, q, r = X_test_iris_scaled, y_test_iris, flowers\n",
    "    else:\n",
    "        # Throw error saying no output type was chosen\n",
    "        raise ValueError('No data set defined')\n",
    "        \n",
    "    y_predict = classifier.predict(p)\n",
    "    if report == \"report\":\n",
    "        # Print a Report\n",
    "        print(name,\"Classification Report:\\n\",\n",
    "        classification_report(q, y_predict,target_names=r))\n",
    "    elif report == \"matrix\":\n",
    "        # Print a Matrix\n",
    "        print(name,\"Confusion Matrix:\\n\",\n",
    "        confusion_matrix(q, y_predict),\"\\n\")\n",
    "    else:\n",
    "        # Throw error saying no output type was chosen\n",
    "        raise ValueError('Not defined whether a report or matrix is to be printed')\n",
    "        \n",
    "# Define both types correctly. k and lambda are dynamically taken from the results of (2a/b).\n",
    "# The data also needs to be fitted so that it can be used by the print_report() function.\n",
    "knn_mnist_fit = KNeighborsClassifier(n_neighbors=K[k_list.index(max_k_list)]).fit(X_test_mnist_scaled, y_test_mnist)\n",
    "lr_mnist_fit = LogisticRegression(C=C[c_list.index(max_c_list)]).fit(X_test_mnist_scaled, y_test_mnist)"
   ]
  },
  {
   "cell_type": "markdown",
   "metadata": {},
   "source": [
    "### Classification Report\n",
    "\n",
    "In this next bit of code, the Report is printed. This report tells us to how accurately each number is correctly guessed by the algorithm."
   ]
  },
  {
   "cell_type": "code",
   "execution_count": 7,
   "metadata": {
    "collapsed": false
   },
   "outputs": [
    {
     "name": "stdout",
     "output_type": "stream",
     "text": [
      "k-Nearest Neighbour Classification Report:\n",
      "              precision    recall  f1-score   support\n",
      "\n",
      "          0       1.00      1.00      1.00        27\n",
      "          1       0.86      1.00      0.93        31\n",
      "          2       1.00      1.00      1.00        27\n",
      "          3       0.97      1.00      0.98        30\n",
      "          4       1.00      1.00      1.00        33\n",
      "          5       1.00      0.90      0.95        30\n",
      "          6       1.00      0.97      0.98        30\n",
      "          7       1.00      1.00      1.00        30\n",
      "          8       1.00      0.89      0.94        28\n",
      "          9       0.94      0.97      0.95        31\n",
      "\n",
      "avg / total       0.98      0.97      0.97       297\n",
      "\n",
      "Logistic Regression Classification Report:\n",
      "              precision    recall  f1-score   support\n",
      "\n",
      "          0       1.00      1.00      1.00        27\n",
      "          1       0.97      0.94      0.95        31\n",
      "          2       1.00      1.00      1.00        27\n",
      "          3       0.97      1.00      0.98        30\n",
      "          4       1.00      0.97      0.98        33\n",
      "          5       0.91      1.00      0.95        30\n",
      "          6       1.00      1.00      1.00        30\n",
      "          7       1.00      1.00      1.00        30\n",
      "          8       0.89      0.89      0.89        28\n",
      "          9       0.93      0.87      0.90        31\n",
      "\n",
      "avg / total       0.97      0.97      0.97       297\n",
      "\n"
     ]
    }
   ],
   "source": [
    "# Use the CR function, for both types.\n",
    "print_report(knn_mnist_fit,\"k-Nearest Neighbour\",\"report\",\"mnist\")\n",
    "print_report(lr_mnist_fit,\"Logistic Regression\",\"report\",\"mnist\")"
   ]
  },
  {
   "cell_type": "markdown",
   "metadata": {},
   "source": [
    "The Reports show a slightly higher precision score with the k-NN method, while the other parameters result in the same average.\n",
    "\n",
    "Even though, per guessed number, the recall and f1-scores differ, so so both classifier types show a different result for different numbers.\n",
    "\n",
    "### Confusion Matrix\n",
    "\n",
    "To print the Matrices, all we have to do is change the output type for our function. This rolls out the confusion matrices for both classifier types."
   ]
  },
  {
   "cell_type": "code",
   "execution_count": 8,
   "metadata": {
    "collapsed": false
   },
   "outputs": [
    {
     "name": "stdout",
     "output_type": "stream",
     "text": [
      "k-Nearest Neighbour Confusion Matrix:\n",
      " [[27  0  0  0  0  0  0  0  0  0]\n",
      " [ 0 31  0  0  0  0  0  0  0  0]\n",
      " [ 0  0 27  0  0  0  0  0  0  0]\n",
      " [ 0  0  0 30  0  0  0  0  0  0]\n",
      " [ 0  0  0  0 33  0  0  0  0  0]\n",
      " [ 0  1  0  0  0 27  0  0  0  2]\n",
      " [ 0  1  0  0  0  0 29  0  0  0]\n",
      " [ 0  0  0  0  0  0  0 30  0  0]\n",
      " [ 0  3  0  0  0  0  0  0 25  0]\n",
      " [ 0  0  0  1  0  0  0  0  0 30]] \n",
      "\n",
      "Logistic Regression Confusion Matrix:\n",
      " [[27  0  0  0  0  0  0  0  0  0]\n",
      " [ 0 29  0  0  0  0  0  0  0  2]\n",
      " [ 0  0 27  0  0  0  0  0  0  0]\n",
      " [ 0  0  0 30  0  0  0  0  0  0]\n",
      " [ 0  0  0  0 32  0  0  0  1  0]\n",
      " [ 0  0  0  0  0 30  0  0  0  0]\n",
      " [ 0  0  0  0  0  0 30  0  0  0]\n",
      " [ 0  0  0  0  0  0  0 30  0  0]\n",
      " [ 0  1  0  0  0  2  0  0 25  0]\n",
      " [ 0  0  0  1  0  1  0  0  2 27]] \n",
      "\n"
     ]
    }
   ],
   "source": [
    "# Use the CR function, for both types.\n",
    "print_report(knn_mnist_fit,\"k-Nearest Neighbour\",\"matrix\",\"mnist\")\n",
    "print_report(lr_mnist_fit,\"Logistic Regression\",\"matrix\",\"mnist\")"
   ]
  },
  {
   "cell_type": "markdown",
   "metadata": {
    "collapsed": true
   },
   "source": [
    "Once again, for different numbers guessed, both methods yield different results. Overall, however, the k-Nearest Neighbour method made 8 wrong guesses, where the Logisitic Regression one made 10 instead.\n",
    "\n",
    "Interestingly, the k-NN had the most repeatable faults: three times, it predicted a 1 as an 8. The LogR made the same mistake, but only once. Except for one other mistake (classifying a 3 as a 9), the two methods yielded very different faults."
   ]
  },
  {
   "cell_type": "markdown",
   "metadata": {},
   "source": [
    "# (3) Conclusion of the analysis\n",
    "\n",
    "The k-Nearest Neighbour method performed better on every type of analysis, with exception of the repeatable fault mentioned in the paragraph above. As the optimal parameter was established as k = 3 in this assignment through various testing options, we can say that this yields the best results. Generally speaking, both algorithms performed relatively well, even with their default settings.\n",
    "\n",
    "\n",
    "### Discussion: Room for improvement\n",
    "\n",
    "- Even though most of the repeating code is turned into flexible functions that allow different input settings (different classifier types, different data, different names, etc.), the loops that are used for optimalization are seperate. It may be possible to include these in a function too, but I believe it would take me a lot of work to do this correctly.\n",
    "\n",
    "- These loops are relatively slow, especially for Logistic Regression. It takes a minute or so to create a list of 30 different success rates for varying lambdas. I am unsure on how to improve this calculation time - perhaps it is due to LogisticRegression() working inefficiently, in which case it could be faster to rewrite this function in a faster way. It is probably due to the loop, though.\n",
    "\n",
    "- While the functions are fairly flexible, because they use an easy-to-input argument to differ between classifier type or dataset, they need to have an if/else statement manually added for every kind of argument. This works fine if you have two different kinds (in this assignment), but if the amount increases, the function can be made more flexible by adding more arguments for the functions, to make them fully flexible."
   ]
  },
  {
   "cell_type": "markdown",
   "metadata": {
    "collapsed": true
   },
   "source": [
    "# BONUS: The Iris dataset\n",
    "\n",
    "Now, we could use the functions we wrote earlier to analyze the Iris dataset.\n",
    "\n",
    "It is unfinished, as the Report and Matrix do not seem to be working correctly and I ran out of time to figure out why and on how to fix it. Default values and optimalization seem to work properly, however."
   ]
  },
  {
   "cell_type": "code",
   "execution_count": 9,
   "metadata": {
    "collapsed": false
   },
   "outputs": [
    {
     "name": "stdout",
     "output_type": "stream",
     "text": [
      "k-Nearest Neighbour Value analysis on the iris dataset: \n",
      " avg.score: 0.966666666667 \n",
      " std.dev.:  0.04472135955\n",
      "Logistic Regression Value analysis on the iris dataset: \n",
      " avg.score: 0.953333333333 \n",
      " std.dev.:  0.06\n"
     ]
    }
   ],
   "source": [
    "# Apply logistic regression to both types\n",
    "print_defaults(KNeighborsClassifier(), \"k-Nearest Neighbour\", \"iris\")\n",
    "print_defaults(LogisticRegression(), \"Logistic Regression\", \"iris\")"
   ]
  },
  {
   "cell_type": "code",
   "execution_count": 10,
   "metadata": {
    "collapsed": false
   },
   "outputs": [
    {
     "name": "stdout",
     "output_type": "stream",
     "text": [
      "The highest rate 0.98 is achieved with k = 13\n"
     ]
    },
    {
     "data": {
      "image/png": "[encoded data removed]",
      "text/plain": [
       "<matplotlib.figure.Figure at 0x26868cdabe0>"
      ]
     },
     "metadata": {},
     "output_type": "display_data"
    }
   ],
   "source": [
    "# Make en empty list. The loop will fill this with the average value scores for each k.\n",
    "k2_list = []\n",
    "\n",
    "# A Loop that checks k between 2 and 30 and prints it in k_list in increasing order.\n",
    "K2 = range(2,30)\n",
    "for i in K2:\n",
    "    knn = KNeighborsClassifier(n_neighbors = i)\n",
    "    main(knn, k2_list, False, \"iris\")\n",
    "    \n",
    "# Save the maximum (that will be used multiple times) so the algorithm is faster\n",
    "max_k2_list = max(k2_list)\n",
    "\n",
    "# Makes a plot for good visualization. The highest peak is the optimal average rate at that k.\n",
    "plt.title(\"Succes scores for k\")\n",
    "plt.ylabel(\"Succes rate\")\n",
    "plt.xlabel(\"k amount\")\n",
    "plt.plot(K2,k2_list)\n",
    "\n",
    "# Prints the optimal average rate and its associated k value.\n",
    "print(\"The highest rate\", max_k2_list, \"is achieved with k =\", K2[k2_list.index(max_k2_list)])"
   ]
  },
  {
   "cell_type": "code",
   "execution_count": 11,
   "metadata": {
    "collapsed": false
   },
   "outputs": [
    {
     "name": "stdout",
     "output_type": "stream",
     "text": [
      "The highest rate 0.98 is achieved with lambda = 0.011\n"
     ]
    },
    {
     "data": {
      "image/png": "[encoded data removed]",
      "text/plain": [
       "<matplotlib.figure.Figure at 0x26868cab198>"
      ]
     },
     "metadata": {},
     "output_type": "display_data"
    }
   ],
   "source": [
    "# Make en empty list. The loop will fill this with the average value scores for each lambda.\n",
    "c2_list = []\n",
    "\n",
    "# A Loop that checks C between 0.048 and 0.051 and prints it in c_list in increasing order.\n",
    "C2 = np.linspace(50, 1400, num=100)\n",
    "for i in C2:\n",
    "    lr = LogisticRegression(C=i)\n",
    "    main(lr,c2_list,False,\"iris\")\n",
    "\n",
    "# Save the maximum (that will be used multiple times) so the algorithm is faster\n",
    "max_c2_list = max(c2_list)\n",
    "    \n",
    "# Makes a plot for good visualization. The highest peak is the optimal average rate at that lambda.\n",
    "plt.title(\"Iris Succes scores for Lambda\")\n",
    "plt.ylabel(\"Succes rate\")\n",
    "plt.xlabel(\"lambda amount\")\n",
    "plt.plot(1/C2,c2_list)\n",
    "\n",
    "# Prints the optimal average rate and its associated lambda value. \n",
    "print(\"The highest rate\",max_c2_list,\"is achieved with lambda =\",1/C2[c2_list.index(max_c2_list)]) "
   ]
  },
  {
   "cell_type": "code",
   "execution_count": 12,
   "metadata": {
    "collapsed": false
   },
   "outputs": [],
   "source": [
    "# knn_iris_fit = KNeighborsClassifier(n_neighbors=K2[k2_list.index(max_k2_list)]).fit(X_test_iris_scaled, y_test_iris)\n",
    "# lr_iris_fit = LogisticRegression(C=C2[k2_list.index(max_c2_list)]).fit(X_test_iris_scaled, y_test_iris)\n",
    "\n",
    "### Use the CR function, for both types.\n",
    "# print_report(knn_iris_fit,\"k-Nearest Neighbour\",\"report\",\"iris\")\n",
    "# print_report(lr_iris_fit,\"Logistic Regression\",\"report\",\"iris\")"
   ]
  },
  {
   "cell_type": "code",
   "execution_count": 13,
   "metadata": {
    "collapsed": false
   },
   "outputs": [],
   "source": [
    "### Use the CR function, for both types.\n",
    "# print_report(knn_iris_fit,\"k-Nearest Neighbour\",\"matrix\",\"iris\")\n",
    "# print_report(lr_iris_fit,\"Logistic Regression\",\"matrix\",\"iris\")"
   ]
  }
 ],
 "metadata": {
  "anaconda-cloud": {},
  "kernelspec": {
   "display_name": "Python [default]",
   "language": "python",
   "name": "python3"
  },
  "language_info": {
   "codemirror_mode": {
    "name": "ipython",
    "version": 3
   },
   "file_extension": ".py",
   "mimetype": "text/x-python",
   "name": "python",
   "nbconvert_exporter": "python",
   "pygments_lexer": "ipython3",
   "version": "3.5.2"
  }
 },
 "nbformat": 4,
 "nbformat_minor": 2
}
