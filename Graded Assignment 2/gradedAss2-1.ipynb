{
 "cells": [
  {
   "cell_type": "markdown",
   "metadata": {},
   "source": [
    "# Graded Lab Assignment 2: Evaluate classifiers (10 points)\n",
    " \n",
    "In this assignment you will optimize and compare the perfomance of a parametric (logistic regression) and non-parametric (k-nearest neighbours) classifier on the MNIST dataset.\n",
    "\n",
    "Publish your notebook (ipynb file) to your Machine Learning repository on Github ON TIME. We will check the last commit on the day of the deadline.  \n",
    "\n",
    "### Deadline Friday, November 17, 23:59.\n",
    "\n",
    "This notebook consists of three parts: design, implementation, results & analysis. \n",
    "We provide you with the design of the experiment and you have to implement it and analyse the results.\n",
    "\n",
    "### Criteria used for grading\n",
    "* Explain and analyse all results.\n",
    "* Make your notebook easy to read. When you are finished take your time to review it!\n",
    "* You do not want to repeat the same chunks of code multiply times. If your need to do so, write a function. \n",
    "* The implementation part of this assignment needs careful design before you start coding. You could start by writing pseudocode.\n",
    "* In this exercise the insights are important. Do not hide them somewhere in the comments in the implementation, but put them in the Analysis part\n",
    "* Take care that all the figures and tables are well labeled and numbered so that you can easily refer to them.\n",
    "* A plot should have a title and axes labels.\n",
    "* You may find that not everything is 100% specified in this assignment. That is correct! Like in real life you probably have to make some choices. Motivate your choices.\n"
   ]
  },
  {
   "cell_type": "markdown",
   "metadata": {},
   "source": [
    "### Grading points distribution\n",
    "\n",
    "* Implementation 5 points\n",
    "* Results and analysis 5 points"
   ]
  },
  {
   "cell_type": "markdown",
   "metadata": {},
   "source": [
    "## Design of the experiment"
   ]
  },
  {
   "cell_type": "markdown",
   "metadata": {},
   "source": [
    "You do not have to keep the order of this design and are allowed to alter it if you are confident.\n",
    "* Import all necessary modules. Try to use as much of the available functions as possible. \n",
    "* Use the provided train and test set of MNIST dataset.\n",
    "* Pre-process data eg. normalize/standardize, reformat, etc.           \n",
    "  Do whatever you think is necessary and motivate your choices.\n",
    "* (1) Train logistic regression and k-nn using default settings.\n",
    "* Use 10-fold cross validation for each classifier to optimize the performance for one parameter: \n",
    "    * consult the documentation on how cross validation works in sklearn (important functions:             cross_val_score(), GridSearchCV()).\n",
    "    * Optimize k for k-nn,\n",
    "    * for logistic regression focus on the regularization parameter,\n",
    "* (2) Train logistic regression and k-nn using optimized parameters.\n",
    "* Show performance on the cross-validation set for (1) and (2) for both classifiers: \n",
    "    * report the average cross validation error rates (alternatively, the average accuracies - it's up to you) and standard deviation,\n",
    "    * plot the average cross valildation errors (or accuracies) for different values of the parameter that you tuned. \n",
    "* Compare performance on the test set for two classifiers:\n",
    "    * produce the classification report for both classifiers, consisting of precision, recall, f1-score. Explain and analyse the results.\n",
    "    * print confusion matrix for both classifiers and compare whether they missclassify the same  classes. Explain and analyse the results.\n",
    "* Discuss your results.\n",
    "* BONUS: only continue with this part if you are confident that your implemention is complete \n",
    "    * tune more parameters of logistic regression\n",
    "    * add additional classifiers (NN, Naive Bayes, decision tree), \n",
    "    * analyse additional dataset (ex. Iris dataset)"
   ]
  },
  {
   "cell_type": "markdown",
   "metadata": {},
   "source": [
    "## Implementation of the experiment"
   ]
  },
  {
   "cell_type": "code",
   "execution_count": 27,
   "metadata": {
    "collapsed": false
   },
   "outputs": [
    {
     "name": "stdout",
     "output_type": "stream",
     "text": [
      "Populating the interactive namespace from numpy and matplotlib\n"
     ]
    }
   ],
   "source": [
    "%pylab inline\n",
    "\n",
    "from sklearn.datasets import load_digits\n",
    "from sklearn.datasets import load_iris                  # Data used in BONUS exercise\n",
    "from sklearn.preprocessing import StandardScaler # to normalize data\n",
    "from sklearn.model_selection import train_test_split #to split in train and test set\n",
    "from sklearn.model_selection import cross_val_score\n",
    "from sklearn.linear_model import LogisticRegression #logistic regression classifier\n",
    "from sklearn.neighbors import KNeighborsClassifier\n",
    "\n",
    "# load mnist dataset and split in train and test set.\n",
    "digits = load_digits()\n",
    "X = reshape(digits.images,(1797,64))                     # Input data (used in CVS)\n",
    "X_train_mnist = reshape(digits.images[:1500],(1500,64))  # Input train set\n",
    "X_test_mnist = reshape(digits.images[1500:],(297,64))    # Input test set\n",
    "y = digits.target                                        # Output data (used in CVS)\n",
    "y_train_mnist = digits.target[:1500]                     # Output train set\n",
    "y_test_mnist = digits.target[1500:]                      # Output test set\n",
    "\n",
    "# Scale Input Data\n",
    "scaler = StandardScaler()                                \n",
    "scaler.fit(X_train_mnist)\n",
    "scaler.fit(X_test_mnist)\n",
    "X_train_scaled = scaler.transform(X_train_mnist)\n",
    "X_test_scaled = scaler.transform(X_test_mnist)"
   ]
  },
  {
   "cell_type": "markdown",
   "metadata": {},
   "source": [
    "## (1) Training LR and k-NN using default settings.\n",
    "\n",
    "Here, nothing but the default settings for both LR and k-NN functions are used. The program outputs the averages of the 10-fold using the default input."
   ]
  },
  {
   "cell_type": "code",
   "execution_count": 32,
   "metadata": {
    "collapsed": false
   },
   "outputs": [
    {
     "name": "stdout",
     "output_type": "stream",
     "text": [
      "Default value average of LR is: 0.931029834684\n",
      "Default value average of k-NN is: 0.973948287255\n"
     ]
    }
   ],
   "source": [
    "# Main function that calculates the 10-fold Cross Validation.\n",
    "def CV_10Fold_defaultvalues(classifier,name):\n",
    "    model = classifier.fit(X_train_scaled, y_train_mnist)\n",
    "    print(\"Default value average of\",name,\"is:\",(average(cross_val_score(model, X, y, cv=10))))\n",
    "\n",
    "lr = LogisticRegression()\n",
    "CV_10Fold_defaultvalues(lr,\"LR\")\n",
    "knn = KNeighborsClassifier()\n",
    "CV_10Fold_defaultvalues(knn,\"k-NN\")"
   ]
  },
  {
   "cell_type": "markdown",
   "metadata": {},
   "source": [
    "## (2a) Optimizing k for k-NN\n",
    "\n",
    "In this part, we try to find the optimal k for k-NN. A plot shows the success rates with varying k's, and the program also returns the optimal rate and its associated k value."
   ]
  },
  {
   "cell_type": "code",
   "execution_count": 30,
   "metadata": {
    "collapsed": false,
    "scrolled": true
   },
   "outputs": [
    {
     "name": "stdout",
     "output_type": "stream",
     "text": [
      "The highest rate 0.97778921138 is achieved with k = 3\n"
     ]
    },
    {
     "data": {
      "image/png": "[encoded data removed]",
      "text/plain": [
       "<matplotlib.figure.Figure at 0x2667b688b70>"
      ]
     },
     "metadata": {},
     "output_type": "display_data"
    }
   ],
   "source": [
    "k_list = []\n",
    "# Main function that calculates the 10-fold Cross Validation.\n",
    "# Different from the previous one, this one appends the average value in a list for later use.\n",
    "def CV_10Fold(classifier):\n",
    "    model = classifier.fit(X_train_scaled, y_train_mnist)\n",
    "    k_list.append(average(cross_val_score(model, X, y, cv=10)))\n",
    "\n",
    "# A Loop that checks k's between 2 and 30\n",
    "K = range(2,30)\n",
    "for i in K:\n",
    "    knn = KNeighborsClassifier(n_neighbors = i)\n",
    "    CV_10Fold(knn)\n",
    "\n",
    "# Make a plot for good visualization. The highest peak is the optimal average rate at that k\n",
    "plt.ylabel(\"Succes Rate\")\n",
    "plt.xlabel(\"amount of k\")\n",
    "plt.plot(range(2,30),k_list)\n",
    "\n",
    "#Pring the optimal average rate and its associated k value. (The +2 is because we start at k = 2, not k = 0.)\n",
    "print(\"The highest rate\",max(k_list),\"is achieved with k =\",2+k_list.index(max(k_list)))"
   ]
  },
  {
   "cell_type": "markdown",
   "metadata": {},
   "source": [
    "## (2b) Optimizing regularization for LR"
   ]
  },
  {
   "cell_type": "code",
   "execution_count": null,
   "metadata": {
    "collapsed": true
   },
   "outputs": [],
   "source": []
  }
 ],
 "metadata": {
  "anaconda-cloud": {},
  "kernelspec": {
   "display_name": "Python [default]",
   "language": "python",
   "name": "python3"
  },
  "language_info": {
   "codemirror_mode": {
    "name": "ipython",
    "version": 3
   },
   "file_extension": ".py",
   "mimetype": "text/x-python",
   "name": "python",
   "nbconvert_exporter": "python",
   "pygments_lexer": "ipython3",
   "version": "3.5.2"
  }
 },
 "nbformat": 4,
 "nbformat_minor": 2
}
