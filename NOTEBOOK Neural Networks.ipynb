{
 "cells": [
  {
   "cell_type": "markdown",
   "metadata": {},
   "source": [
    "# AUC ML LabExercise - Neural Networks\n",
    "Ungraded exercise, deadline Friday 3 November, 23:59.\n"
   ]
  },
  {
   "cell_type": "code",
   "execution_count": 1,
   "metadata": {
    "collapsed": false
   },
   "outputs": [
    {
     "name": "stdout",
     "output_type": "stream",
     "text": [
      "Populating the interactive namespace from numpy and matplotlib\n"
     ]
    }
   ],
   "source": [
    "%pylab inline"
   ]
  },
  {
   "cell_type": "markdown",
   "metadata": {},
   "source": [
    "To use the Neural Networks package you first need to install the scikit-neuralnetwork. Install it through your Anaconda Navigator to avoid version mismatches. You can find the documentation here: \n",
    "http://scikit-learn.org/stable/modules/neural_networks_supervised.html"
   ]
  },
  {
   "cell_type": "code",
   "execution_count": 8,
   "metadata": {
    "collapsed": false
   },
   "outputs": [
    {
     "ename": "NameError",
     "evalue": "name 'NN_class' is not defined",
     "output_type": "error",
     "traceback": [
      "\u001b[0;31m---------------------------------------------------------------------------\u001b[0m",
      "\u001b[0;31mNameError\u001b[0m                                 Traceback (most recent call last)",
      "\u001b[0;32m<ipython-input-8-3fc75c281b0a>\u001b[0m in \u001b[0;36m<module>\u001b[0;34m()\u001b[0m\n\u001b[1;32m     40\u001b[0m \u001b[1;31m# Step 7: Training\u001b[0m\u001b[1;33m\u001b[0m\u001b[1;33m\u001b[0m\u001b[0m\n\u001b[1;32m     41\u001b[0m \u001b[1;31m# Train both classifiers, uising fit() function.\u001b[0m\u001b[1;33m\u001b[0m\u001b[1;33m\u001b[0m\u001b[0m\n\u001b[0;32m---> 42\u001b[0;31m \u001b[0mNN_class\u001b[0m\u001b[1;33m.\u001b[0m\u001b[0mfit\u001b[0m\u001b[1;33m(\u001b[0m\u001b[0mx_scaled\u001b[0m\u001b[1;33m,\u001b[0m \u001b[0my\u001b[0m\u001b[1;33m)\u001b[0m\u001b[1;33m\u001b[0m\u001b[0m\n\u001b[0m\u001b[1;32m     43\u001b[0m \u001b[0mclf\u001b[0m\u001b[1;33m.\u001b[0m\u001b[0mfit\u001b[0m\u001b[1;33m(\u001b[0m\u001b[0mx_scaled\u001b[0m\u001b[1;33m,\u001b[0m \u001b[0my\u001b[0m\u001b[1;33m)\u001b[0m\u001b[1;33m\u001b[0m\u001b[0m\n\u001b[1;32m     44\u001b[0m \u001b[1;33m\u001b[0m\u001b[0m\n",
      "\u001b[0;31mNameError\u001b[0m: name 'NN_class' is not defined"
     ]
    }
   ],
   "source": [
    "#In this notebook we will work with the, commonly used, Iris dataset. \n",
    "#Please read the description of the dataset here:\n",
    "#http://scikit-learn.org/stable/auto_examples/datasets/plot_iris_dataset.html\n",
    "\n",
    "#First we import all the modules that you need for this exrecise\n",
    "from sklearn import datasets # to load the dataset\n",
    "from sklearn.preprocessing import StandardScaler # to normalize data (NN is very sensitive to this!)\n",
    "from sklearn.model_selection import train_test_split #to split in train and test set\n",
    "from sklearn.linear_model import LogisticRegression #logistic regression classifier\n",
    "from sklearn.neural_network import MLPClassifier # neural network classifier\n",
    "from sklearn.model_selection import cross_val_score #BONUS: to tune parameters using cross-validation\n",
    "\n",
    "\n",
    "#Step 1: Load Iris dataset.\n",
    "iris = datasets.load_iris()\n",
    "\n",
    "#Step 2: Save the features (data) and the labels (target) in separate variables.\n",
    "x, y = iris.data, iris.target\n",
    "\n",
    "#Step 3: Normalize your data. Do it 'by hand' using a for-loop or use the StandardScaler() function.\n",
    "scaler = StandardScaler()\n",
    "scaler.fit(x)\n",
    "x_scaled = scaler.transform(x)\n",
    "\n",
    "#Step 4: Split the dataset in train and test sets. \n",
    "#You can either do it 'by hand' or use the train_test_split() function.\n",
    "x_train, x_test, y_train, y_test = train_test_split(x_scaled, y, test_size=0.33, random_state=42)\n",
    "\n",
    "#Step 5: Load logistic regression.\n",
    "# Study in the documentation all the arguments that the function takes as input and returns as output.\n",
    "# Choose some initial values to start with and experiment with them after you get to Step 8.\n",
    "LR = LogisticRegression(C=1e5)\n",
    "LR.fit(x_train, y_train)\n",
    "\n",
    "#Step 6: Load NN Classifer\n",
    "# Study in the documentation all the arguments that the function takes as input and returns as output.\n",
    "# Choose some initial values to start with and experiment with them after you get to Step 8.\n",
    "\n",
    "\n",
    "# Step 7: Training\n",
    "# Train both classifiers, uising fit() function.\n",
    "NN_class.fit(x_scaled, y)\n",
    "clf.fit(x_scaled, y)\n",
    "\n",
    "# Step 8: Testing/Prediction\n",
    "# Print the score for both classifiers on the test set, using score() function.\n",
    "print(clf.score(x_test, y_test))\n",
    "\n",
    "\n",
    "# BONUS Step 9: Look at your cross validation error \n",
    "# and discover how to tune your NN parameters with cross validation\n",
    "# Print the scores and also print the mean (accuracy) and std (95% confidence interval) of your scores\n"
   ]
  },
  {
   "cell_type": "code",
   "execution_count": null,
   "metadata": {
    "collapsed": true
   },
   "outputs": [],
   "source": []
  },
  {
   "cell_type": "code",
   "execution_count": null,
   "metadata": {
    "collapsed": true
   },
   "outputs": [],
   "source": []
  }
 ],
 "metadata": {
  "anaconda-cloud": {},
  "kernelspec": {
   "display_name": "Python [default]",
   "language": "python",
   "name": "python3"
  },
  "language_info": {
   "codemirror_mode": {
    "name": "ipython",
    "version": 3
   },
   "file_extension": ".py",
   "mimetype": "text/x-python",
   "name": "python",
   "nbconvert_exporter": "python",
   "pygments_lexer": "ipython3",
   "version": "3.5.2"
  }
 },
 "nbformat": 4,
 "nbformat_minor": 2
}
